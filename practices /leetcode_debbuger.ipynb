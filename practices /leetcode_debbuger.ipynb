{
 "cells": [
  {
   "cell_type": "markdown",
   "id": "03558d2d-a713-4b77-8780-c4d80bd2909e",
   "metadata": {
    "tags": []
   },
   "source": [
    "## Line reflection\n",
    "\n",
    "https://leetcode.com/problems/line-reflection/\n",
    "\n",
    "Given n points on a 2D plane, find if there is such a line parallel to y-axis that reflect the given points.\n",
    "\n",
    "Example 1:\n",
    "Given points = [[1,1],[-1,1]], return true.\n",
    "\n",
    "Example 2:\n",
    "Given points = [[1,1],[-1,-1]], return false.\n",
    "\n",
    "Follow up:\n",
    "Could you do better than O(n2)?"
   ]
  },
  {
   "cell_type": "code",
   "execution_count": 201,
   "id": "df48ea10-b273-41b8-aafb-63a9f242b1b3",
   "metadata": {},
   "outputs": [],
   "source": [
    "points = [[5,1], [-5,1], [7,7], [-7,7]] # --> True\n",
    "points = [[1,3], [9,3], [4,2], [6,2]] # --> True\n",
    "points = [[1,3], [9,3], [4,2], [6,2], [1,0], [9,0]] # --> True\n",
    "points = [[1,2]] # --> True\n",
    "points = [[0,0]] # --> True\n",
    "points = [[1,1], [9,1], [5,10]] # --> True\n",
    "\n",
    "points = [[1,1],[-1,-7]] # --> Fasle\n",
    "\n",
    "# points = [] # --> True\n",
    "points = [[1,1]] # --> True\n",
    "points = [[0,0],[1,0]] # --> True\n",
    "points = [[1,1],[-1,1]] # --> True\n",
    "points = [[1,1],[-1,-1]] # --> Fasle\n",
    "points = [[1,1],[-1,-1],[-1,1]] # --> Fasle\n",
    "points = [[1,1],[-1,-1],[-1,1], [1,-1]] # --> True\n",
    "points = [[1,1],[-1,-1],[-1,1], [2,-1]] # --> False\n",
    "\n",
    "# line_reflection(points)"
   ]
  },
  {
   "cell_type": "code",
   "execution_count": 1,
   "id": "6c8617b8-474d-439e-b7d5-5c148d810b84",
   "metadata": {},
   "outputs": [],
   "source": [
    "import collections\n",
    "\n",
    "def Line_reflection(points):\n",
    "    if len(points) < 2: return True\n",
    "\n",
    "    x_sum = 0\n",
    "    for i, (x,y) in enumerate(points): \n",
    "        x_sum += x \n",
    "\n",
    "    mean = x_sum/(i+1)\n",
    "    \n",
    "    support_dict = {}\n",
    "    counter = 0\n",
    "    for x,y in points:\n",
    "        if x == mean: continue\n",
    "\n",
    "        new_x = x-mean\n",
    "\n",
    "        if (-new_x, y) not in support_dict:\n",
    "            support_dict[(new_x, y)] = 1\n",
    "            counter += 1\n",
    "\n",
    "        else: counter -= 1\n",
    "        \n",
    "    return counter == 0"
   ]
  },
  {
   "cell_type": "markdown",
   "id": "b1fe5464-f30f-43e8-ac7b-5fc88f67be04",
   "metadata": {},
   "source": [
    "## Zigzag Iterator\n",
    "\n",
    "Given two 1d vectors, implement an iterator to return their elements alternately.For example, given two 1d vectors:\n",
    "\n",
    "v1 = [1, 2]\n",
    "v2 = [3, 4, 5, 6]"
   ]
  },
  {
   "cell_type": "code",
   "execution_count": 216,
   "id": "c651c548-48a0-487f-b5b6-715159bedfa8",
   "metadata": {},
   "outputs": [
    {
     "data": {
      "text/plain": [
       "[6, 10, 5, 3, 1]"
      ]
     },
     "execution_count": 216,
     "metadata": {},
     "output_type": "execute_result"
    }
   ],
   "source": [
    "v1 = [1, 2]\n",
    "v2 = [3, 4, 5, 6] \n",
    "[1, 3, 2, 4, 5, 6]\n",
    "\n",
    "v1 = [6,5,3,1]\n",
    "v2 = [10]\n",
    "[6,10,5,3,1]"
   ]
  },
  {
   "cell_type": "code",
   "execution_count": 233,
   "id": "6dcd2bb7-7355-4962-b7f5-5877d3e95bf4",
   "metadata": {},
   "outputs": [],
   "source": [
    "v1_iter, v2_iter = 0, 0\n",
    "result = []\n",
    "while v1_iter != None and v2_iter != None:\n",
    "    result += [v1[v1_iter]]\n",
    "    result += [v2[v2_iter]]\n",
    "    \n",
    "    v1_iter += 1\n",
    "    v2_iter += 1\n",
    "    \n",
    "    if v1_iter == len(v1): v1_iter = None\n",
    "    if v2_iter == len(v2): v2_iter = None\n",
    "    \n",
    "    \n",
    "if len(v1) > len(v2):\n",
    "    for i in range(v1_iter, len(v1)):\n",
    "        result += [v1[i]]\n",
    "        \n",
    "elif len(v2) > len(v1):\n",
    "    for i in range(v2_iter, len(v2)):\n",
    "        result += [v2[i]]"
   ]
  },
  {
   "cell_type": "markdown",
   "id": "9c2ab162-e9db-4160-b117-ece01f62c843",
   "metadata": {},
   "source": [
    "## Debug"
   ]
  },
  {
   "cell_type": "code",
   "execution_count": 251,
   "id": "810d067a-e1ce-4b8d-b732-33af012c0ac4",
   "metadata": {},
   "outputs": [],
   "source": [
    "test = [[1,4],[2,3]]"
   ]
  },
  {
   "cell_type": "code",
   "execution_count": 252,
   "id": "4e959408-6386-47c9-a52e-b81f9f15bdc2",
   "metadata": {},
   "outputs": [],
   "source": [
    "test.sort()"
   ]
  },
  {
   "cell_type": "code",
   "execution_count": 253,
   "id": "5fbd243f-a0e8-4ee9-ad61-eca9ac07943c",
   "metadata": {},
   "outputs": [
    {
     "data": {
      "text/plain": [
       "[[1, 4], [2, 3]]"
      ]
     },
     "execution_count": 253,
     "metadata": {},
     "output_type": "execute_result"
    }
   ],
   "source": [
    "test"
   ]
  },
  {
   "cell_type": "markdown",
   "id": "5f54642c-fbd5-4f24-8f64-70a8962249a7",
   "metadata": {},
   "source": [
    "## Max Consecutive Ones II\n",
    "\n",
    "Given a binary array, find the maximum number of consecutive 1s in this array if you can flip at most one 0.\n",
    "\n",
    "Example 1:\n",
    "\n",
    "Input: [1,0,1,1,0]\n",
    "Output: 4"
   ]
  },
  {
   "cell_type": "code",
   "execution_count": 254,
   "id": "17c4ffc6-afbf-49e0-9d3c-7d09f95be008",
   "metadata": {},
   "outputs": [],
   "source": [
    "array = [1,0,1,1,0]"
   ]
  },
  {
   "cell_type": "code",
   "execution_count": 258,
   "id": "1a405d45-57a0-4b34-89a0-705c4fe1d609",
   "metadata": {},
   "outputs": [],
   "source": [
    "counter = 0\n",
    "zero_counter = 0\n",
    "max_ones = 0\n",
    "\n",
    "for elem in array:\n",
    "    if elem == 1:\n",
    "        if zero_counter == 1:\n",
    "            counter += 1\n",
    "        counter += 1\n",
    "        zero_counter = 0\n",
    "        \n",
    "    elif elem == 0:\n",
    "        zero_counter += 1\n",
    "        \n",
    "    if counter > max_ones:\n",
    "        max_ones = counter"
   ]
  },
  {
   "cell_type": "code",
   "execution_count": 259,
   "id": "ce06918a-011d-402f-bee2-56ef0c07bef4",
   "metadata": {},
   "outputs": [
    {
     "data": {
      "text/plain": [
       "4"
      ]
     },
     "execution_count": 259,
     "metadata": {},
     "output_type": "execute_result"
    }
   ],
   "source": [
    "max_ones"
   ]
  },
  {
   "cell_type": "markdown",
   "id": "d2a2157c-c163-424e-bc76-9d03ced196aa",
   "metadata": {},
   "source": [
    "## Debug"
   ]
  },
  {
   "cell_type": "code",
   "execution_count": 269,
   "id": "d7f5e309-8feb-41ad-b440-f1514d9acac3",
   "metadata": {},
   "outputs": [],
   "source": [
    "s = \"babad\""
   ]
  },
  {
   "cell_type": "code",
   "execution_count": 305,
   "id": "693223cc-cab1-49a8-bdf6-06cae9ebaf6f",
   "metadata": {},
   "outputs": [
    {
     "name": "stdout",
     "output_type": "stream",
     "text": [
      "1\n",
      "[1, 0, 2]\n",
      "bab\n",
      "bab\n",
      "bab\n"
     ]
    }
   ],
   "source": [
    "s = \"bab\"\n",
    "\n",
    "support_stack = []\n",
    "\n",
    "# если нечетное кол-во\n",
    "mid_elem = len(s)//2\n",
    "print(mid_elem)\n",
    "\n",
    "support_stack.append(mid_elem)\n",
    "for i in range(mid_elem):\n",
    "    support_stack.append(mid_elem-(i+1))\n",
    "    support_stack.append(mid_elem+(i+1))\n",
    "    \n",
    "print(support_stack)\n",
    "\n",
    "palindrome = \"\"\n",
    "max_palindrome = \"\"\n",
    "\n",
    "for mid_elem in support_stack:\n",
    "    \n",
    "    for i in range((len(s)-1) - mid_elem):\n",
    "        l, r = mid_elem-(i+1), mid_elem+(i+1)\n",
    "\n",
    "        if s[l] == s[r]: palindrome = s[l:r+1]\n",
    "\n",
    "        if max_palindrome < palindrome: max_palindrome = palindrome\n",
    "\n",
    "        if len(max_palindrome) == len(s): print(max_palindrome)"
   ]
  },
  {
   "cell_type": "code",
   "execution_count": 17,
   "id": "4d3f3970-c252-4d39-a4db-2a57575c662f",
   "metadata": {},
   "outputs": [
    {
     "name": "stdout",
     "output_type": "stream",
     "text": [
      "2 3\n",
      "[2, 3, 1, 4, 0, 5]\n"
     ]
    }
   ],
   "source": [
    "s = \"bakbad\"\n",
    "\n",
    "support_stack = []\n",
    "\n",
    "# если четное кол-во\n",
    "mid_elem_1, mid_elem_2 = (len(s)//2)-1, len(s)//2\n",
    "print(mid_elem_1, mid_elem_2)\n",
    "\n",
    "support_stack.append(mid_elem_1)\n",
    "support_stack.append(mid_elem_2)\n",
    "for i in range(mid_elem_1):\n",
    "    support_stack.append(mid_elem_1-(i+1))\n",
    "    support_stack.append(mid_elem_1+(i+2))\n",
    "\n",
    "print(support_stack)\n",
    "\n",
    "# первый прогон\n",
    "# for i in range(mid_elem_1):"
   ]
  },
  {
   "cell_type": "code",
   "execution_count": 28,
   "id": "98aa704d-5eff-439c-a9c0-cf009ba0002b",
   "metadata": {},
   "outputs": [
    {
     "name": "stdout",
     "output_type": "stream",
     "text": [
      "0\n",
      "(2, 3)\n",
      "2\n",
      "(1, 4)\n",
      "4\n",
      "(0, 5)\n"
     ]
    }
   ],
   "source": [
    "for i in range(0, len(support_stack), 2):\n",
    "    l, r = support_stack[i], support_stack[i+1]\n",
    "    \n",
    "    if l == r:\n",
    "        "
   ]
  },
  {
   "cell_type": "code",
   "execution_count": null,
   "id": "bcd5ccac-5066-4e16-9c21-46959052dc3e",
   "metadata": {},
   "outputs": [],
   "source": []
  },
  {
   "cell_type": "code",
   "execution_count": 32,
   "id": "d725b5ee-ef06-4a5b-9ac7-ea0a95c31dc5",
   "metadata": {},
   "outputs": [
    {
     "name": "stdout",
     "output_type": "stream",
     "text": [
      "['', 'home', '', 'foo', '', '..']\n",
      "['home', 'foo', '..']\n"
     ]
    }
   ],
   "source": [
    "path = \"/home//foo//..\"\n",
    "path_array = path.split(\"/\") # time:n space:n\n",
    "print(path_array)\n",
    "\n",
    "path_array = [elem for elem in path_array if elem] # n, n\n",
    "print(path_array)\n",
    "\n",
    "for i in range(len(path_array)):\n",
    "    if path_array[i] == \".\": path_array.pop(i)\n",
    "    \n"
   ]
  },
  {
   "cell_type": "markdown",
   "id": "baa15f66-928b-48ed-a7c2-7a504a1c13f5",
   "metadata": {},
   "source": [
    "## Longest Palindromic Substring"
   ]
  },
  {
   "cell_type": "code",
   "execution_count": 5,
   "id": "8a229a21-144d-4d7b-a198-0ca3ab309831",
   "metadata": {},
   "outputs": [
    {
     "data": {
      "text/plain": [
       "11"
      ]
     },
     "execution_count": 5,
     "metadata": {},
     "output_type": "execute_result"
    }
   ],
   "source": [
    "s = \"aacabdkacaa\"\n",
    "n = len(s)\n",
    "n"
   ]
  },
  {
   "cell_type": "code",
   "execution_count": null,
   "id": "c254a76b-daa6-487f-af33-6af2e030cb53",
   "metadata": {},
   "outputs": [],
   "source": [
    "if n%2:\n",
    "    middle = n//2\n",
    "    palindrome = f\"{s[middle]}\"\n",
    "    for i in range(middle-1, 0-1, -1):\n",
    "        if s[i] == s[-(i+1)]: palindrome += s[i]\n",
    "        else: \n",
    "            self.find_palindrom(s[:-1])\n",
    "            self.find_palindrom(s[1:])\n",
    "\n",
    "    # palindrome = palindrome[::-1][:-1] + palindrome\n",
    "    if len(palindrome) > len(self.max_palindrome): self.max_palindrome =  palindrome"
   ]
  },
  {
   "cell_type": "code",
   "execution_count": null,
   "id": "59d0a75e-0a35-4be7-b250-2b4ec45b7bc1",
   "metadata": {},
   "outputs": [],
   "source": []
  },
  {
   "cell_type": "code",
   "execution_count": null,
   "id": "bedbca4b-7757-4b73-a1b0-e1f32e58b04b",
   "metadata": {},
   "outputs": [],
   "source": []
  },
  {
   "cell_type": "code",
   "execution_count": null,
   "id": "50a273ff-fb82-4d44-b7d0-7ba1a689c8ab",
   "metadata": {},
   "outputs": [],
   "source": []
  },
  {
   "cell_type": "code",
   "execution_count": null,
   "id": "b62a66fc-586e-4a87-a525-0c83e496017e",
   "metadata": {},
   "outputs": [],
   "source": []
  },
  {
   "cell_type": "code",
   "execution_count": null,
   "id": "c2d9eddf-ef61-43a2-8e43-106c3add0417",
   "metadata": {},
   "outputs": [],
   "source": []
  },
  {
   "cell_type": "code",
   "execution_count": null,
   "id": "cb7f372f-a3b6-4664-a0e1-fc65e8daacc3",
   "metadata": {},
   "outputs": [],
   "source": []
  },
  {
   "cell_type": "code",
   "execution_count": null,
   "id": "2ca4ea33-0d28-45da-89f2-331faea2fd75",
   "metadata": {},
   "outputs": [],
   "source": []
  },
  {
   "cell_type": "code",
   "execution_count": null,
   "id": "cc40a762-478e-4e39-8890-dc507e80c38f",
   "metadata": {},
   "outputs": [],
   "source": []
  },
  {
   "cell_type": "code",
   "execution_count": null,
   "id": "3e58dcfe-a51f-4b0d-a5fb-06f601ffa432",
   "metadata": {},
   "outputs": [],
   "source": []
  },
  {
   "cell_type": "code",
   "execution_count": 6,
   "id": "5204bc2c-0ecd-4473-a0b3-36190fc2d817",
   "metadata": {},
   "outputs": [
    {
     "name": "stdout",
     "output_type": "stream",
     "text": [
      "aacacaa\n"
     ]
    }
   ],
   "source": [
    "class Solution:\n",
    "    def __init__(self):\n",
    "        self.max_palindrome = \"\"\n",
    "        \n",
    "    def find_palindrom(self, s):\n",
    "        n = len(s)\n",
    "\n",
    "        if n%2:\n",
    "            middle = n//2\n",
    "            palindrome = f\"{s[middle]}\"\n",
    "            for i in range(middle-1, 0-1, -1):\n",
    "                if s[i] == s[-(i+1)]: \n",
    "                    palindrome += s[i]\n",
    "                else: \n",
    "                    palindrome = palindrome[::-1][:-1] + palindrome\n",
    "                    if len(palindrome) > len(self.max_palindrome): self.max_palindrome = palindrome\n",
    "                    palindrome = \"\"\n",
    "                    self.find_palindrom(s[:-1])\n",
    "                    self.find_palindrom(s[1:])\n",
    "                    \n",
    "            palindrome = palindrome[::-1][:-1] + palindrome\n",
    "            if len(palindrome) > len(self.max_palindrome): self.max_palindrome = palindrome\n",
    "\n",
    "\n",
    "        else:\n",
    "            middle = n//2\n",
    "            palindrome = \"\"\n",
    "            for i in range(middle-1, 0-1, -1):\n",
    "                if s[i] == s[-(i+1)]: palindrome += s[i]\n",
    "                else:\n",
    "                    palindrome = palindrome[::-1] + palindrome\n",
    "                    if len(palindrome) > len(self.max_palindrome): self.max_palindrome = palindrome\n",
    "                    palindrome = \"\"\n",
    "                    self.find_palindrom(s[:-1])\n",
    "                    self.find_palindrom(s[1:])\n",
    "                    \n",
    "            palindrome = palindrome[::-1] + palindrome\n",
    "            if len(palindrome) > len(self.max_palindrome): self.max_palindrome = palindrome\n",
    "            \n",
    "        return self.max_palindrome\n",
    "    \n",
    "s = \"aacacaa\"\n",
    "solution = Solution()\n",
    "result = solution.find_palindrom(s)\n",
    "\n",
    "print(result)"
   ]
  },
  {
   "cell_type": "code",
   "execution_count": 46,
   "id": "68a944c3-4b68-4513-beb7-b87c6822a3ad",
   "metadata": {},
   "outputs": [],
   "source": [
    "# s = \"leaelqwe\"\n",
    "# s = \"leelk\"\n",
    "# s = \"aacabdkacaa\" \n",
    "# s = \"babad\"\n",
    "# s = \"bb\""
   ]
  },
  {
   "cell_type": "code",
   "execution_count": 47,
   "id": "cc62804b-f001-4fc1-91ad-0c24905891f6",
   "metadata": {},
   "outputs": [
    {
     "name": "stdout",
     "output_type": "stream",
     "text": [
      "aacaacaa\n"
     ]
    }
   ],
   "source": [
    "# solution = Solution()\n",
    "# result = solution.find_palindrom(s)\n",
    "\n",
    "# print(result)"
   ]
  },
  {
   "cell_type": "code",
   "execution_count": null,
   "id": "bb6d9cd1-5b41-49a1-83ba-b91050f9496c",
   "metadata": {},
   "outputs": [],
   "source": []
  },
  {
   "cell_type": "code",
   "execution_count": 6,
   "id": "9efcee48-cb53-46e0-b8ec-f06a1f76fcf7",
   "metadata": {},
   "outputs": [
    {
     "ename": "NameError",
     "evalue": "name 'strsa' is not defined",
     "output_type": "error",
     "traceback": [
      "\u001b[1;31m---------------------------------------------------------------------------\u001b[0m",
      "\u001b[1;31mNameError\u001b[0m                                 Traceback (most recent call last)",
      "Input \u001b[1;32mIn [6]\u001b[0m, in \u001b[0;36m<cell line: 17>\u001b[1;34m()\u001b[0m\n\u001b[0;32m     13\u001b[0m         \u001b[38;5;28;01mreturn\u001b[39;00m \u001b[38;5;28mlist\u001b[39m(support_dict\u001b[38;5;241m.\u001b[39mvalues())\n\u001b[0;32m     16\u001b[0m solution \u001b[38;5;241m=\u001b[39m Solution()\n\u001b[1;32m---> 17\u001b[0m result \u001b[38;5;241m=\u001b[39m \u001b[43msolution\u001b[49m\u001b[38;5;241;43m.\u001b[39;49m\u001b[43mgroupAnagrams\u001b[49m\u001b[43m(\u001b[49m\u001b[43mstrs\u001b[49m\u001b[43m)\u001b[49m\n\u001b[0;32m     18\u001b[0m \u001b[38;5;28mprint\u001b[39m(result)\n",
      "Input \u001b[1;32mIn [6]\u001b[0m, in \u001b[0;36mSolution.groupAnagrams\u001b[1;34m(self, strs)\u001b[0m\n\u001b[0;32m      6\u001b[0m \u001b[38;5;28;01mdef\u001b[39;00m \u001b[38;5;21mgroupAnagrams\u001b[39m(\u001b[38;5;28mself\u001b[39m, strs):\n\u001b[0;32m      7\u001b[0m     support_dict \u001b[38;5;241m=\u001b[39m collections\u001b[38;5;241m.\u001b[39mdefaultdict(\u001b[38;5;28mlist\u001b[39m)\n\u001b[1;32m----> 9\u001b[0m     \u001b[38;5;28;01mfor\u001b[39;00m s \u001b[38;5;129;01min\u001b[39;00m \u001b[43mstrsa\u001b[49m:\n\u001b[0;32m     10\u001b[0m         key_str \u001b[38;5;241m=\u001b[39m \u001b[38;5;28mstr\u001b[39m(\u001b[38;5;28msorted\u001b[39m(s))\n\u001b[0;32m     11\u001b[0m         support_dict[key_str]\u001b[38;5;241m.\u001b[39mappend(s)\n",
      "\u001b[1;31mNameError\u001b[0m: name 'strsa' is not defined"
     ]
    }
   ],
   "source": [
    "strs = [\"eat\",\"tea\",\"tan\",\"ate\",\"nat\",\"bat\"]\n",
    "\n",
    "import collections\n",
    "\n",
    "class Solution:\n",
    "    def groupAnagrams(self, strs):\n",
    "        support_dict = collections.defaultdict(list)\n",
    "\n",
    "        for s in strsa:\n",
    "            key_str = str(sorted(s))\n",
    "            support_dict[key_str].append(s)\n",
    "            \n",
    "        return list(support_dict.values())\n",
    "    \n",
    "\n",
    "solution = Solution()\n",
    "result = solution.groupAnagrams(strs)\n",
    "print(result)"
   ]
  },
  {
   "cell_type": "code",
   "execution_count": null,
   "id": "50822cbb-6b67-4d92-a661-539644f36bbf",
   "metadata": {},
   "outputs": [],
   "source": []
  },
  {
   "cell_type": "code",
   "execution_count": 8,
   "id": "fc4566cc-d265-4a4c-a34f-14be3fd9a0f5",
   "metadata": {},
   "outputs": [
    {
     "ename": "TypeError",
     "evalue": "unhashable type: 'list'",
     "output_type": "error",
     "traceback": [
      "\u001b[1;31m---------------------------------------------------------------------------\u001b[0m",
      "\u001b[1;31mTypeError\u001b[0m                                 Traceback (most recent call last)",
      "Input \u001b[1;32mIn [8]\u001b[0m, in \u001b[0;36m<cell line: 3>\u001b[1;34m()\u001b[0m\n\u001b[0;32m      1\u001b[0m key \u001b[38;5;241m=\u001b[39m [\u001b[38;5;241m1\u001b[39m,\u001b[38;5;241m2\u001b[39m,\u001b[38;5;241m3\u001b[39m]\n\u001b[0;32m      2\u001b[0m my_dict \u001b[38;5;241m=\u001b[39m {}\n\u001b[1;32m----> 3\u001b[0m my_dict[key] \u001b[38;5;241m=\u001b[39m \u001b[38;5;124m\"\u001b[39m\u001b[38;5;124mlena\u001b[39m\u001b[38;5;124m\"\u001b[39m\n",
      "\u001b[1;31mTypeError\u001b[0m: unhashable type: 'list'"
     ]
    }
   ],
   "source": []
  }
 ],
 "metadata": {
  "kernelspec": {
   "display_name": "Python 3 (ipykernel)",
   "language": "python",
   "name": "python3"
  },
  "language_info": {
   "codemirror_mode": {
    "name": "ipython",
    "version": 3
   },
   "file_extension": ".py",
   "mimetype": "text/x-python",
   "name": "python",
   "nbconvert_exporter": "python",
   "pygments_lexer": "ipython3",
   "version": "3.10.10"
  }
 },
 "nbformat": 4,
 "nbformat_minor": 5
}
